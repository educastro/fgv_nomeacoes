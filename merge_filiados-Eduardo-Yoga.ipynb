{
 "cells": [
  {
   "cell_type": "code",
   "execution_count": 3,
   "id": "competitive-chance",
   "metadata": {},
   "outputs": [],
   "source": [
    "import os"
   ]
  },
  {
   "cell_type": "code",
   "execution_count": 6,
   "id": "operating-special",
   "metadata": {},
   "outputs": [],
   "source": [
    "outputfile = open(\"todos_os_filiados_do_brasil.csv\",\"w\")\n",
    "\n",
    "count = 1"
   ]
  },
  {
   "cell_type": "code",
   "execution_count": null,
   "id": "grateful-cement",
   "metadata": {},
   "outputs": [],
   "source": [
    "for filename in os.listdir(r\"C:\\Users\\eduar\\OneDrive\\Documentos\\programming\\python\\fgv_sergio_nomeacoes\\partidos\\\\\"):\n",
    "\n",
    "# first file:\n",
    "    if count == 1:\n",
    "        print(\"iniciando \" + filename)\n",
    "\n",
    "        secondaryfile = open(r\"C:\\Users\\eduar\\OneDrive\\Documentos\\programming\\python\\fgv_sergio_nomeacoes\\partidos\\\\\" + filename)\n",
    "\n",
    "        for line in secondaryfile:\n",
    "             outputfile.write(line)\n",
    "        secondaryfile.close() # not really needed\n",
    "\n",
    "        print(\"finalizando \" + filename)"
   ]
  },
  {
   "cell_type": "code",
   "execution_count": null,
   "id": "atmospheric-ready",
   "metadata": {},
   "outputs": [],
   "source": [
    "    else:\n",
    "        print(\"iniciando \" + filename)\n",
    "\n",
    "        secondaryfile = open(r\"C:\\Users\\eduar\\OneDrive\\Documentos\\programming\\python\\fgv_sergio_nomeacoes\\partidos\\\\\" + filename)\n",
    "        next(secondaryfile) # skip the header\n",
    "        for line in secondaryfile:\n",
    "            outputfile.write(line)\n",
    "        secondaryfile.close() # not really needed\n",
    "\n",
    "        print(\"finalizando \" + filename)\n",
    "\n",
    "    count += 1\n",
    "\n",
    "outputfile.close()"
   ]
  }
 ],
 "metadata": {
  "kernelspec": {
   "display_name": "Python 3",
   "language": "python",
   "name": "python3"
  },
  "language_info": {
   "codemirror_mode": {
    "name": "ipython",
    "version": 3
   },
   "file_extension": ".py",
   "mimetype": "text/x-python",
   "name": "python",
   "nbconvert_exporter": "python",
   "pygments_lexer": "ipython3",
   "version": "3.8.2"
  }
 },
 "nbformat": 4,
 "nbformat_minor": 5
}
