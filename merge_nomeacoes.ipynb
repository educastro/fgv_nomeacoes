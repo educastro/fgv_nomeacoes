{
 "cells": [
  {
   "cell_type": "code",
   "execution_count": 12,
   "id": "consecutive-perception",
   "metadata": {},
   "outputs": [],
   "source": [
    "import csv\n",
    "import xmltodict\n",
    "import re\n",
    "import os"
   ]
  },
  {
   "cell_type": "code",
   "execution_count": 16,
   "id": "powerful-wilson",
   "metadata": {},
   "outputs": [
    {
     "ename": "ExpatError",
     "evalue": "syntax error: line 1, column 0",
     "output_type": "error",
     "traceback": [
      "\u001b[1;31m---------------------------------------------------------------------------\u001b[0m",
      "\u001b[1;31mExpatError\u001b[0m                                Traceback (most recent call last)",
      "\u001b[1;32m<ipython-input-16-92eabd6c94d5>\u001b[0m in \u001b[0;36m<module>\u001b[1;34m\u001b[0m\n\u001b[0;32m      3\u001b[0m         \u001b[0mfilepath\u001b[0m \u001b[1;33m=\u001b[0m \u001b[1;34m\"nomeacoes/\"\u001b[0m \u001b[1;33m+\u001b[0m \u001b[0mfoldername\u001b[0m \u001b[1;33m+\u001b[0m \u001b[1;34m\"/\"\u001b[0m \u001b[1;33m+\u001b[0m \u001b[0mfilename\u001b[0m\u001b[1;33m\u001b[0m\u001b[1;33m\u001b[0m\u001b[0m\n\u001b[0;32m      4\u001b[0m         \u001b[1;32mwith\u001b[0m \u001b[0mopen\u001b[0m\u001b[1;33m(\u001b[0m\u001b[0mfilepath\u001b[0m\u001b[1;33m,\u001b[0m \u001b[0mencoding\u001b[0m\u001b[1;33m=\u001b[0m\u001b[1;34m'utf-8'\u001b[0m\u001b[1;33m)\u001b[0m \u001b[1;32mas\u001b[0m \u001b[0mato_xml\u001b[0m\u001b[1;33m:\u001b[0m\u001b[1;33m\u001b[0m\u001b[1;33m\u001b[0m\u001b[0m\n\u001b[1;32m----> 5\u001b[1;33m             \u001b[0mato\u001b[0m \u001b[1;33m=\u001b[0m \u001b[0mxmltodict\u001b[0m\u001b[1;33m.\u001b[0m\u001b[0mparse\u001b[0m\u001b[1;33m(\u001b[0m\u001b[0mato_xml\u001b[0m\u001b[1;33m.\u001b[0m\u001b[0mread\u001b[0m\u001b[1;33m(\u001b[0m\u001b[1;33m)\u001b[0m\u001b[1;33m)\u001b[0m\u001b[1;33m\u001b[0m\u001b[1;33m\u001b[0m\u001b[0m\n\u001b[0m\u001b[0;32m      6\u001b[0m             \u001b[0mtitulo_da_portaria\u001b[0m \u001b[1;33m=\u001b[0m \u001b[0mato\u001b[0m\u001b[1;33m[\u001b[0m\u001b[1;34m\"xml\"\u001b[0m\u001b[1;33m]\u001b[0m\u001b[1;33m[\u001b[0m\u001b[1;34m\"article\"\u001b[0m\u001b[1;33m]\u001b[0m\u001b[1;33m[\u001b[0m\u001b[1;34m\"body\"\u001b[0m\u001b[1;33m]\u001b[0m\u001b[1;33m[\u001b[0m\u001b[1;34m\"Identifica\"\u001b[0m\u001b[1;33m]\u001b[0m\u001b[1;33m\u001b[0m\u001b[1;33m\u001b[0m\u001b[0m\n\u001b[0;32m      7\u001b[0m             \u001b[0mdata_da_portaria\u001b[0m \u001b[1;33m=\u001b[0m \u001b[0mato\u001b[0m\u001b[1;33m[\u001b[0m\u001b[1;34m\"xml\"\u001b[0m\u001b[1;33m]\u001b[0m\u001b[1;33m[\u001b[0m\u001b[1;34m\"article\"\u001b[0m\u001b[1;33m]\u001b[0m\u001b[1;33m[\u001b[0m\u001b[1;34m\"@pubDate\"\u001b[0m\u001b[1;33m]\u001b[0m\u001b[1;33m\u001b[0m\u001b[1;33m\u001b[0m\u001b[0m\n",
      "\u001b[1;32mc:\\python38\\lib\\site-packages\\xmltodict.py\u001b[0m in \u001b[0;36mparse\u001b[1;34m(xml_input, encoding, expat, process_namespaces, namespace_separator, disable_entities, **kwargs)\u001b[0m\n\u001b[0;32m    325\u001b[0m         \u001b[0mparser\u001b[0m\u001b[1;33m.\u001b[0m\u001b[0mParseFile\u001b[0m\u001b[1;33m(\u001b[0m\u001b[0mxml_input\u001b[0m\u001b[1;33m)\u001b[0m\u001b[1;33m\u001b[0m\u001b[1;33m\u001b[0m\u001b[0m\n\u001b[0;32m    326\u001b[0m     \u001b[1;32melse\u001b[0m\u001b[1;33m:\u001b[0m\u001b[1;33m\u001b[0m\u001b[1;33m\u001b[0m\u001b[0m\n\u001b[1;32m--> 327\u001b[1;33m         \u001b[0mparser\u001b[0m\u001b[1;33m.\u001b[0m\u001b[0mParse\u001b[0m\u001b[1;33m(\u001b[0m\u001b[0mxml_input\u001b[0m\u001b[1;33m,\u001b[0m \u001b[1;32mTrue\u001b[0m\u001b[1;33m)\u001b[0m\u001b[1;33m\u001b[0m\u001b[1;33m\u001b[0m\u001b[0m\n\u001b[0m\u001b[0;32m    328\u001b[0m     \u001b[1;32mreturn\u001b[0m \u001b[0mhandler\u001b[0m\u001b[1;33m.\u001b[0m\u001b[0mitem\u001b[0m\u001b[1;33m\u001b[0m\u001b[1;33m\u001b[0m\u001b[0m\n\u001b[0;32m    329\u001b[0m \u001b[1;33m\u001b[0m\u001b[0m\n",
      "\u001b[1;31mExpatError\u001b[0m: syntax error: line 1, column 0"
     ]
    }
   ],
   "source": [
    "for foldername in os.listdir(\"nomeacoes\"):\n",
    "    for filename in os.listdir(\"nomeacoes/\" + foldername):\n",
    "        filepath = \"nomeacoes/\" + foldername + \"/\" + filename\n",
    "        with open(filepath, encoding='utf-8') as ato_xml:\n",
    "            ato = xmltodict.parse(ato_xml.read())\n",
    "            titulo_da_portaria = ato[\"xml\"][\"article\"][\"body\"][\"Identifica\"]\n",
    "            data_da_portaria = ato[\"xml\"][\"article\"][\"@pubDate\"] \n",
    "            subtitulo_da_portaria = ato[\"xml\"][\"article\"][\"body\"][\"SubTitulo\"]\n",
    "            texto_da_portaria = ato[\"xml\"][\"article\"][\"body\"][\"Texto\"]"
   ]
  },
  {
   "cell_type": "code",
   "execution_count": null,
   "id": "focal-extension",
   "metadata": {},
   "outputs": [],
   "source": [
    "            regex_nomeacao = re.search(r\"\\<\\/p\\>\\<p\\>\\<strong\\>NOMEAR\\<\\/strong\\>\\<\\/p\\>\\<p\\>(.+)\\spara\\sexercer\\so\\scargo\\sde\\s(.+)\\W\\scódigo\\s(.+)\\W\\s\\w+\\s(.+)\\W\\<\\/p\\>\\<p\\s\", texto_da_portaria)"
   ]
  },
  {
   "cell_type": "code",
   "execution_count": null,
   "id": "ancient-gregory",
   "metadata": {},
   "outputs": [],
   "source": [
    "            nome_do_servidor = regex_nomeacao.group(1)\n",
    "            cargo_titulo = regex_nomeacao.group(2)\n",
    "            cargo_simbolo = regex_nomeacao.group(3)\n",
    "            cargo_lotacao = regex_nomeacao.group(4)"
   ]
  },
  {
   "cell_type": "code",
   "execution_count": null,
   "id": "coated-vacuum",
   "metadata": {},
   "outputs": [],
   "source": [
    "            print(data_da_portaria)\n",
    "            print(titulo_da_portaria)\n",
    "            print(nome_do_servidor)\n",
    "            print(cargo_titulo)\n",
    "            print(cargo_simbolo)\n",
    "            print(cargo_lotacao)"
   ]
  },
  {
   "cell_type": "code",
   "execution_count": null,
   "id": "precise-rating",
   "metadata": {},
   "outputs": [],
   "source": []
  }
 ],
 "metadata": {
  "kernelspec": {
   "display_name": "Python 3",
   "language": "python",
   "name": "python3"
  },
  "language_info": {
   "codemirror_mode": {
    "name": "ipython",
    "version": 3
   },
   "file_extension": ".py",
   "mimetype": "text/x-python",
   "name": "python",
   "nbconvert_exporter": "python",
   "pygments_lexer": "ipython3",
   "version": "3.8.2"
  }
 },
 "nbformat": 4,
 "nbformat_minor": 5
}
