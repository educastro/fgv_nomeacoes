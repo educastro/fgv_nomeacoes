{
 "cells": [
  {
   "cell_type": "code",
   "execution_count": 41,
   "id": "planned-conversion",
   "metadata": {},
   "outputs": [],
   "source": [
    "import csv\n",
    "import xmltodict\n",
    "import re\n",
    "from os import listdir, walk"
   ]
  },
  {
   "cell_type": "code",
   "execution_count": 55,
   "id": "stuck-zimbabwe",
   "metadata": {},
   "outputs": [],
   "source": [
    "with open(\"nomeacoes/S02012019/604_20190131_11433118.xml\", encoding='utf-8') as ato_xml:\n",
    "    \n",
    "    ato = xmltodict.parse(ato_xml.read())\n",
    "    titulo_da_portaria = ato[\"xml\"][\"article\"][\"body\"][\"Identifica\"]\n",
    "    data_da_portaria = ato[\"xml\"][\"article\"][\"@pubDate\"] \n",
    "    subtitulo_da_portaria = ato[\"xml\"][\"article\"][\"body\"][\"SubTitulo\"]\n",
    "    texto_da_portaria = ato[\"xml\"][\"article\"][\"body\"][\"Texto\"]\n",
    "    \n",
    "    regex_nomeacao = re.search(r\"\\<\\/p\\>\\<p\\>\\<strong\\>NOMEAR\\<\\/strong\\>\\<\\/p\\>\\<p\\>(.+)\\spara\\sexercer\\so\\scargo\\sde\\s(.+)\\W\\scódigo\\s(.+)\\W\\s\\w+\\s(.+)\\W\\<\\/p\\>\\<p\\s\", texto_da_portaria)"
   ]
  },
  {
   "cell_type": "code",
   "execution_count": 59,
   "id": "compatible-newark",
   "metadata": {},
   "outputs": [],
   "source": [
    "    regex_nomeacao = re.search(r\"\\<\\/p\\>\\<p\\>\\<strong\\>NOMEAR\\<\\/strong\\>\\<\\/p\\>\\<p\\>(.+)\\spara\\sexercer\\so\\scargo\\sde\\s(.+)\\W\\scódigo\\s(.+)\\W\\s\\w+\\s(.+)\\W\\<\\/p\\>\\<p\\s\", texto_da_portaria)"
   ]
  },
  {
   "cell_type": "code",
   "execution_count": 60,
   "id": "based-carter",
   "metadata": {},
   "outputs": [],
   "source": [
    "    nome_do_servidor = regex_nomeacao.group(1)\n",
    "    cargo_titulo = regex_nomeacao.group(2)\n",
    "    cargo_simbolo = regex_nomeacao.group(3)\n",
    "    cargo_lotacao = regex_nomeacao.group(4)"
   ]
  },
  {
   "cell_type": "code",
   "execution_count": 61,
   "id": "random-engineering",
   "metadata": {},
   "outputs": [
    {
     "name": "stdout",
     "output_type": "stream",
     "text": [
      "31/01/2019\n",
      "PORTARIA Nº 307, DE 31 DE JANEIRO DE 2019\n",
      "REGINA APARECIDA DA CRUZ\n",
      "Coordenador-Geral\n",
      "DAS 101.4\n",
      "Coordenação-Geral da Subchefia Adjunta de Acompanhamento junto ao Senado Federal da Subchefia de Assuntos Parlamentares da Casa Civil da Presidência da República\n"
     ]
    }
   ],
   "source": [
    "    print(data_da_portaria)\n",
    "    print(titulo_da_portaria)\n",
    "    print(nome_do_servidor)\n",
    "    print(cargo_titulo)\n",
    "    print(cargo_simbolo)\n",
    "    print(cargo_lotacao)"
   ]
  },
  {
   "cell_type": "code",
   "execution_count": null,
   "id": "funny-directory",
   "metadata": {},
   "outputs": [],
   "source": []
  }
 ],
 "metadata": {
  "kernelspec": {
   "display_name": "Python 3",
   "language": "python",
   "name": "python3"
  },
  "language_info": {
   "codemirror_mode": {
    "name": "ipython",
    "version": 3
   },
   "file_extension": ".py",
   "mimetype": "text/x-python",
   "name": "python",
   "nbconvert_exporter": "python",
   "pygments_lexer": "ipython3",
   "version": "3.8.2"
  }
 },
 "nbformat": 4,
 "nbformat_minor": 5
}
